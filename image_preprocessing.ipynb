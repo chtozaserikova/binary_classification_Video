{
 "cells": [
  {
   "cell_type": "code",
   "execution_count": null,
   "metadata": {},
   "outputs": [],
   "source": [
    "import cv2\n",
    "import time\n",
    "import numpy as np\n",
    "from datetime import timedelta\n",
    "import matplotlib.pyplot as plt\n",
    "from PIL import ImageGrab\n",
    "import splitfolders"
   ]
  },
  {
   "cell_type": "markdown",
   "metadata": {},
   "source": [
    "### Кадрируем видео и решейпим кадры"
   ]
  },
  {
   "cell_type": "code",
   "execution_count": null,
   "metadata": {},
   "outputs": [],
   "source": [
    "'''\n",
    "В данном видео 15 фпс, поэтому берем кадр ровно раз в секунду \n",
    "'''\n",
    "\n",
    "vidcap = cv2.VideoCapture('data/camera.mp4') \n",
    "def getFrame(sec): \n",
    "    vidcap.set(cv2.CAP_PROP_POS_MSEC,sec*1000) \n",
    "    hasFrames,image = vidcap.read() \n",
    "    if hasFrames: \n",
    "        cv2.imwrite(\"data/frames/frame%d.jpg\" % sec, image)   \n",
    "    return hasFrames \n",
    "sec = 0 \n",
    "frameRate = 1\n",
    "success = getFrame(sec) \n",
    "while success: \n",
    "    sec = sec + frameRate \n",
    "    success = getFrame(sec) "
   ]
  },
  {
   "cell_type": "code",
   "execution_count": null,
   "metadata": {},
   "outputs": [],
   "source": [
    "for img in range(0, 37682):\n",
    "    resim = cv2.imread(\"data/frames/frame%d.jpg\" % img)    \n",
    "    crop_img = resim[210:445, 115:350]\n",
    "    crop_img = cv2.resize(crop_img, (116, 116))\n",
    "    cv2.imwrite(\"data/crop_img/crop%d.jpg\" % img, crop_img)\n",
    "cv2.waitKey(0)\n",
    "cv2.destroyAllWindows()"
   ]
  },
  {
   "cell_type": "code",
   "execution_count": null,
   "metadata": {},
   "outputs": [],
   "source": [
    "splitfolders.ratio('data/dataset', output=\"dataset_splited\", seed=1337, ratio=(.8, .2)) "
   ]
  }
 ],
 "metadata": {
  "kernelspec": {
   "display_name": "Python 3.10.5 64-bit",
   "language": "python",
   "name": "python3"
  },
  "language_info": {
   "name": "python",
   "version": "3.10.5"
  },
  "orig_nbformat": 4,
  "vscode": {
   "interpreter": {
    "hash": "21a3d01e8368cfa19a102c134c0c062a32736263c5d0133ceaa97ac29f712d49"
   }
  }
 },
 "nbformat": 4,
 "nbformat_minor": 2
}
