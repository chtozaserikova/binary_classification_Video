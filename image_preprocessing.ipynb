{
 "cells": [
  {
   "cell_type": "code",
   "execution_count": 1,
   "metadata": {},
   "outputs": [],
   "source": [
    "import cv2\n",
    "import time\n",
    "import numpy as np\n",
    "from datetime import timedelta\n",
    "import matplotlib.pyplot as plt\n",
    "from PIL import ImageGrab\n",
    "import splitfolders"
   ]
  },
  {
   "cell_type": "markdown",
   "metadata": {},
   "source": [
    "### Кадрируем видео и решейпим кадры"
   ]
  },
  {
   "cell_type": "code",
   "execution_count": null,
   "metadata": {},
   "outputs": [],
   "source": [
    "cap= cv2.VideoCapture('data\\camera.mp4')\n",
    "framespersecond= int(cap.get(cv2.CAP_PROP_FPS))\n",
    "print(\"The total number of frames in this video is \", framespersecond)"
   ]
  },
  {
   "cell_type": "code",
   "execution_count": null,
   "metadata": {},
   "outputs": [],
   "source": [
    "'''\n",
    "В данном видео 15 фпс, поэтому берем кадр ровно раз в секунду \n",
    "'''\n",
    "\n",
    "vidcap = cv2.VideoCapture('data/camera.mp4') \n",
    "def getFrame(sec): \n",
    "    vidcap.set(cv2.CAP_PROP_POS_MSEC,sec*1000) \n",
    "    hasFrames,image = vidcap.read() \n",
    "    if hasFrames: \n",
    "        cv2.imwrite(\"data/frames/frame%d.jpg\" % sec, image)   \n",
    "    return hasFrames \n",
    "sec = 0 \n",
    "frameRate = 1\n",
    "success = getFrame(sec) \n",
    "while success: \n",
    "    sec = sec + frameRate \n",
    "    success = getFrame(sec) "
   ]
  },
  {
   "cell_type": "code",
   "execution_count": null,
   "metadata": {},
   "outputs": [],
   "source": [
    "for img in range(0, 37682):\n",
    "    resim = cv2.imread(\"data/frames/frame%d.jpg\" % img)    \n",
    "    crop_img = resim[210:445, 115:350]\n",
    "    crop_img = cv2.resize(crop_img, (116, 116))\n",
    "    cv2.imwrite(\"data/crop_img/crop%d.jpg\" % img, crop_img)\n",
    "cv2.waitKey(0)\n",
    "cv2.destroyAllWindows()"
   ]
  },
  {
   "cell_type": "code",
   "execution_count": null,
   "metadata": {},
   "outputs": [],
   "source": [
    "splitfolders.ratio('data/dataset', output=\"dataset_splited\", seed=1337, ratio=(.8, .2)) "
   ]
  }
 ],
 "metadata": {
  "kernelspec": {
   "display_name": "Python 3.10.5 ('venv': venv)",
   "language": "python",
   "name": "python3"
  },
  "language_info": {
   "codemirror_mode": {
    "name": "ipython",
    "version": 3
   },
   "file_extension": ".py",
   "mimetype": "text/x-python",
   "name": "python",
   "nbconvert_exporter": "python",
   "pygments_lexer": "ipython3",
   "version": "3.10.5"
  },
  "orig_nbformat": 4,
  "vscode": {
   "interpreter": {
    "hash": "bf3caaaa83c478bb48a87dbc3694e4857eb9a745c572b7cbe83376e1f6320081"
   }
  }
 },
 "nbformat": 4,
 "nbformat_minor": 2
}
